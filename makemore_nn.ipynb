{
 "cells": [
  {
   "cell_type": "code",
   "execution_count": 17,
   "id": "ff75d9a4-c059-47e9-8e43-40f372efb9e7",
   "metadata": {},
   "outputs": [],
   "source": [
    "import torch"
   ]
  },
  {
   "cell_type": "code",
   "execution_count": 1,
   "id": "7ee463e2-9c82-4c64-a16f-2fadc0d823ca",
   "metadata": {},
   "outputs": [],
   "source": [
    "words = open('names.txt', 'r').read().splitlines()"
   ]
  },
  {
   "cell_type": "code",
   "execution_count": 12,
   "id": "74ae7eb0-e1c1-470e-890c-3e373d1635e2",
   "metadata": {},
   "outputs": [],
   "source": [
    "chars = sorted(list(set(''.join(words))))\n",
    "stoi = {s:i+1 for i, s in enumerate(chars)}\n",
    "stoi['.'] = 0"
   ]
  },
  {
   "cell_type": "code",
   "execution_count": 102,
   "id": "3ece66d8-e402-4745-abc7-abf6524aac28",
   "metadata": {},
   "outputs": [
    {
     "ename": "SyntaxError",
     "evalue": "did you forget parentheses around the comprehension target? (2315613992.py, line 16)",
     "output_type": "error",
     "traceback": [
      "\u001b[0;36m  Cell \u001b[0;32mIn[102], line 16\u001b[0;36m\u001b[0m\n\u001b[0;31m    print([xs, ys for xs, ys in inputs(words, 1)])\u001b[0m\n\u001b[0m           ^\u001b[0m\n\u001b[0;31mSyntaxError\u001b[0m\u001b[0;31m:\u001b[0m did you forget parentheses around the comprehension target?\n"
     ]
    }
   ],
   "source": [
    "# Create the training set of bigrams (x, y)\n",
    "\n",
    "def inputs(words, firstn=None):\n",
    "    xs, ys = [], []\n",
    "    words = words if firstn is None else words[:firstn]\n",
    "    for w in words:\n",
    "        chs = ['.'] + list(w) + ['.']\n",
    "        for ch1, ch2 in zip(chs, chs[1:]):\n",
    "            ix1 = stoi[ch1]\n",
    "            ix2 = stoi[ch2]\n",
    "            # print(ch1, ch2)\n",
    "            xs.append(ix1)\n",
    "            ys.append(ix2)\n",
    "        yield torch.tensor(xs), torch.tensor(ys)\n",
    "\n",
    "print([(xs, ys) for xs, ys in inputs(words, 1)])"
   ]
  },
  {
   "cell_type": "code",
   "execution_count": 21,
   "id": "2fd0d9f5-2c44-48b8-ad3b-248a7392e876",
   "metadata": {},
   "outputs": [
    {
     "data": {
      "text/plain": [
       "tensor([ 0,  5, 13, 13,  1])"
      ]
     },
     "execution_count": 21,
     "metadata": {},
     "output_type": "execute_result"
    }
   ],
   "source": [
    "xs"
   ]
  },
  {
   "cell_type": "code",
   "execution_count": 22,
   "id": "b7a24bdb-a4a7-4008-9d14-85bed5f3bc9a",
   "metadata": {},
   "outputs": [
    {
     "data": {
      "text/plain": [
       "tensor([ 5, 13, 13,  1,  0])"
      ]
     },
     "execution_count": 22,
     "metadata": {},
     "output_type": "execute_result"
    }
   ],
   "source": [
    "ys"
   ]
  },
  {
   "cell_type": "code",
   "execution_count": 33,
   "id": "57b9fc61-9ed3-4a2c-84ab-e3d39dc9ec9e",
   "metadata": {},
   "outputs": [
    {
     "data": {
      "text/plain": [
       "tensor([[1., 0., 0., 0., 0., 0., 0., 0., 0., 0., 0., 0., 0., 0., 0., 0., 0., 0.,\n",
       "         0., 0., 0., 0., 0., 0., 0., 0., 0.],\n",
       "        [0., 0., 0., 0., 0., 1., 0., 0., 0., 0., 0., 0., 0., 0., 0., 0., 0., 0.,\n",
       "         0., 0., 0., 0., 0., 0., 0., 0., 0.],\n",
       "        [0., 0., 0., 0., 0., 0., 0., 0., 0., 0., 0., 0., 0., 1., 0., 0., 0., 0.,\n",
       "         0., 0., 0., 0., 0., 0., 0., 0., 0.],\n",
       "        [0., 0., 0., 0., 0., 0., 0., 0., 0., 0., 0., 0., 0., 1., 0., 0., 0., 0.,\n",
       "         0., 0., 0., 0., 0., 0., 0., 0., 0.],\n",
       "        [0., 1., 0., 0., 0., 0., 0., 0., 0., 0., 0., 0., 0., 0., 0., 0., 0., 0.,\n",
       "         0., 0., 0., 0., 0., 0., 0., 0., 0.]])"
      ]
     },
     "execution_count": 33,
     "metadata": {},
     "output_type": "execute_result"
    }
   ],
   "source": [
    "import torch.nn.functional as F\n",
    "\n",
    "xenc = F.one_hot(xs, num_classes=27).float()\n",
    "xenc"
   ]
  },
  {
   "cell_type": "code",
   "execution_count": 27,
   "id": "20043f8f-6e1f-4c22-a1ba-21e3afd63de7",
   "metadata": {},
   "outputs": [
    {
     "data": {
      "text/plain": [
       "torch.Size([5, 27])"
      ]
     },
     "execution_count": 27,
     "metadata": {},
     "output_type": "execute_result"
    }
   ],
   "source": [
    "xenc.shape"
   ]
  },
  {
   "cell_type": "code",
   "execution_count": 31,
   "id": "19d93f2d-39ad-43ea-a82f-c5b5ffd6c3d4",
   "metadata": {},
   "outputs": [
    {
     "data": {
      "text/plain": [
       "<matplotlib.image.AxesImage at 0x11ffb54c0>"
      ]
     },
     "execution_count": 31,
     "metadata": {},
     "output_type": "execute_result"
    },
    {
     "data": {
      "image/png": "[encoded data removed]",
      "text/plain": [
       "<Figure size 640x480 with 1 Axes>"
      ]
     },
     "metadata": {},
     "output_type": "display_data"
    }
   ],
   "source": [
    "import matplotlib.pyplot as plt\n",
    "\n",
    "plt.imshow(xenc)"
   ]
  },
  {
   "cell_type": "code",
   "execution_count": 34,
   "id": "01f8b785-bfa8-49b4-bfa9-8b52de140dad",
   "metadata": {},
   "outputs": [
    {
     "data": {
      "text/plain": [
       "torch.float32"
      ]
     },
     "execution_count": 34,
     "metadata": {},
     "output_type": "execute_result"
    }
   ],
   "source": [
    "xenc.dtype"
   ]
  },
  {
   "cell_type": "code",
   "execution_count": 42,
   "id": "10d288d5-cf55-4df2-9463-1cc8c1e31cf0",
   "metadata": {},
   "outputs": [
    {
     "data": {
      "text/plain": [
       "tensor([[-8.4348e-01, -6.3599e-01, -2.9342e-01, -1.2090e+00, -1.0762e+00,\n",
       "          1.4709e+00, -4.3272e-03,  2.1842e+00,  2.0196e+00, -5.8639e-01,\n",
       "          7.8792e-01,  5.9524e-01, -5.3868e-01,  1.2542e-01, -5.3990e-01,\n",
       "         -8.8206e-02,  5.3349e-01, -1.6474e+00,  1.2064e+00, -8.9869e-01,\n",
       "          7.5553e-02, -1.9577e-01,  3.1464e-01, -5.4807e-01,  2.7046e-02,\n",
       "         -2.2378e-02, -4.9682e-04],\n",
       "        [ 1.7512e+00,  7.0218e-01, -2.2396e+00, -2.8919e-02,  9.7229e-02,\n",
       "         -1.4037e-02,  2.5357e+00,  8.5312e-01, -8.0750e-01,  1.1692e-01,\n",
       "          1.4226e+00, -1.0432e+00, -5.2531e-01, -2.2908e-01, -2.3797e-01,\n",
       "         -1.2262e+00,  9.4677e-01, -1.1976e+00,  8.7976e-01,  4.5405e-01,\n",
       "          1.3453e+00,  1.0694e+00,  5.5989e-01, -1.9106e-01,  4.4257e-01,\n",
       "         -1.7538e+00, -5.8785e-01],\n",
       "        [-1.2383e-01, -3.2990e-01,  2.6597e-01,  5.6772e-01, -5.3842e-01,\n",
       "          1.2381e+00,  6.2183e-01, -5.0442e-01,  1.1181e+00,  4.6287e-01,\n",
       "         -3.1878e-01,  5.9864e-01,  1.0777e+00,  5.6268e-01,  3.1306e-01,\n",
       "          3.4931e-01, -6.4934e-01,  1.7322e-01,  1.3862e-01,  1.6232e+00,\n",
       "          4.3427e-01,  6.3405e-01,  1.2749e+00, -6.7744e-01,  5.4358e-01,\n",
       "         -7.4795e-01, -4.9767e-01],\n",
       "        [-1.2383e-01, -3.2990e-01,  2.6597e-01,  5.6772e-01, -5.3842e-01,\n",
       "          1.2381e+00,  6.2183e-01, -5.0442e-01,  1.1181e+00,  4.6287e-01,\n",
       "         -3.1878e-01,  5.9864e-01,  1.0777e+00,  5.6268e-01,  3.1306e-01,\n",
       "          3.4931e-01, -6.4934e-01,  1.7322e-01,  1.3862e-01,  1.6232e+00,\n",
       "          4.3427e-01,  6.3405e-01,  1.2749e+00, -6.7744e-01,  5.4358e-01,\n",
       "         -7.4795e-01, -4.9767e-01],\n",
       "        [-4.0296e-01,  5.7059e-01,  1.6139e-01,  5.4890e-01,  1.6921e-01,\n",
       "          5.0061e-01, -1.2674e+00, -1.0858e+00, -2.1992e-01,  3.5975e-01,\n",
       "         -6.6759e-01,  1.1394e+00,  6.2759e-01,  1.2517e+00,  1.0236e+00,\n",
       "         -1.4575e-01, -7.9727e-02,  1.3153e+00,  9.6902e-01, -1.7421e+00,\n",
       "          7.9884e-01,  8.2541e-01,  1.6852e+00,  4.2134e-01,  7.2244e-01,\n",
       "         -1.8699e-01, -6.6988e-01]])"
      ]
     },
     "execution_count": 42,
     "metadata": {},
     "output_type": "execute_result"
    }
   ],
   "source": [
    "W = torch.randn((27,27))\n",
    "xenc @ W"
   ]
  },
  {
   "cell_type": "code",
   "execution_count": 63,
   "id": "f23dcddb-ea3b-42ba-b1da-18028ad5769a",
   "metadata": {},
   "outputs": [
    {
     "data": {
      "text/plain": [
       "tensor([[0.0097, 0.0119, 0.0168, 0.0067, 0.0077, 0.0980, 0.0224, 0.2001, 0.1697,\n",
       "         0.0125, 0.0495, 0.0408, 0.0131, 0.0255, 0.0131, 0.0206, 0.0384, 0.0043,\n",
       "         0.0753, 0.0092, 0.0243, 0.0185, 0.0309, 0.0130, 0.0231, 0.0220, 0.0225],\n",
       "        [0.1088, 0.0381, 0.0020, 0.0184, 0.0208, 0.0186, 0.2385, 0.0443, 0.0084,\n",
       "         0.0212, 0.0784, 0.0067, 0.0112, 0.0150, 0.0149, 0.0055, 0.0487, 0.0057,\n",
       "         0.0455, 0.0297, 0.0725, 0.0550, 0.0331, 0.0156, 0.0294, 0.0033, 0.0105],\n",
       "        [0.0200, 0.0163, 0.0296, 0.0400, 0.0132, 0.0782, 0.0422, 0.0137, 0.0694,\n",
       "         0.0360, 0.0165, 0.0413, 0.0666, 0.0398, 0.0310, 0.0322, 0.0118, 0.0270,\n",
       "         0.0261, 0.1150, 0.0350, 0.0428, 0.0812, 0.0115, 0.0391, 0.0107, 0.0138],\n",
       "        [0.0200, 0.0163, 0.0296, 0.0400, 0.0132, 0.0782, 0.0422, 0.0137, 0.0694,\n",
       "         0.0360, 0.0165, 0.0413, 0.0666, 0.0398, 0.0310, 0.0322, 0.0118, 0.0270,\n",
       "         0.0261, 0.1150, 0.0350, 0.0428, 0.0812, 0.0115, 0.0391, 0.0107, 0.0138],\n",
       "        [0.0145, 0.0385, 0.0256, 0.0377, 0.0258, 0.0359, 0.0061, 0.0073, 0.0175,\n",
       "         0.0312, 0.0112, 0.0680, 0.0407, 0.0761, 0.0605, 0.0188, 0.0201, 0.0811,\n",
       "         0.0573, 0.0038, 0.0484, 0.0497, 0.1173, 0.0332, 0.0448, 0.0180, 0.0111]])"
      ]
     },
     "execution_count": 63,
     "metadata": {},
     "output_type": "execute_result"
    }
   ],
   "source": [
    "logits = xenc @ W # log-counts\n",
    "counts = logits.exp() # equivalent N\n",
    "\n",
    "prob = counts / counts.sum(1, keepdim=True)\n",
    "prob"
   ]
  },
  {
   "cell_type": "code",
   "execution_count": 85,
   "id": "0ce37d30-5e21-4d0e-b6c8-ed0ac5b327b3",
   "metadata": {},
   "outputs": [],
   "source": [
    "g = torch.Generator().manual_seed(2147483647)\n",
    "W = torch.randn((27, 27), generator=g)"
   ]
  },
  {
   "cell_type": "code",
   "execution_count": 94,
   "id": "2b57055d-450e-4889-a1d2-f7cebd1e3374",
   "metadata": {},
   "outputs": [
    {
     "data": {
      "text/plain": [
       "tensor([[0.0607, 0.0100, 0.0123, 0.0042, 0.0168, 0.0123, 0.0027, 0.0232, 0.0137,\n",
       "         0.0313, 0.0079, 0.0278, 0.0091, 0.0082, 0.0500, 0.2378, 0.0603, 0.0025,\n",
       "         0.0249, 0.0055, 0.0339, 0.0109, 0.0029, 0.0198, 0.0118, 0.1537, 0.1459],\n",
       "        [0.0290, 0.0796, 0.0248, 0.0521, 0.1989, 0.0289, 0.0094, 0.0335, 0.0097,\n",
       "         0.0301, 0.0702, 0.0228, 0.0115, 0.0181, 0.0108, 0.0315, 0.0291, 0.0045,\n",
       "         0.0916, 0.0215, 0.0486, 0.0300, 0.0501, 0.0027, 0.0118, 0.0022, 0.0472],\n",
       "        [0.0312, 0.0737, 0.0484, 0.0333, 0.0674, 0.0200, 0.0263, 0.0249, 0.1226,\n",
       "         0.0164, 0.0075, 0.0789, 0.0131, 0.0267, 0.0147, 0.0112, 0.0585, 0.0121,\n",
       "         0.0650, 0.0058, 0.0208, 0.0078, 0.0133, 0.0203, 0.1204, 0.0469, 0.0126],\n",
       "        [0.0312, 0.0737, 0.0484, 0.0333, 0.0674, 0.0200, 0.0263, 0.0249, 0.1226,\n",
       "         0.0164, 0.0075, 0.0789, 0.0131, 0.0267, 0.0147, 0.0112, 0.0585, 0.0121,\n",
       "         0.0650, 0.0058, 0.0208, 0.0078, 0.0133, 0.0203, 0.1204, 0.0469, 0.0126],\n",
       "        [0.0150, 0.0086, 0.0396, 0.0100, 0.0606, 0.0308, 0.1084, 0.0131, 0.0125,\n",
       "         0.0048, 0.1024, 0.0086, 0.0988, 0.0112, 0.0232, 0.0207, 0.0408, 0.0078,\n",
       "         0.0899, 0.0531, 0.0463, 0.0309, 0.0051, 0.0329, 0.0654, 0.0503, 0.0091]])"
      ]
     },
     "execution_count": 94,
     "metadata": {},
     "output_type": "execute_result"
    }
   ],
   "source": [
    "# forward pass\n",
    "def forward(xs):\n",
    "    xenc = torch.nn.functional.one_hot(xs, num_classes=27).float() # input to the network: one-hot encoding\n",
    "    logits = xenc @ W # predict log-counts\n",
    "    counts = logits.exp() # counts, equivalent to N\n",
    "    probs = counts / counts.sum(1, keepdim=True) # probabilities for next character\n",
    "    return probs\n",
    "    # the last two lines are together called a `softmax`\n",
    "\n",
    "forward(xs)"
   ]
  },
  {
   "cell_type": "code",
   "execution_count": 79,
   "id": "a64247bd-7549-45ed-8327-788b7907dcc7",
   "metadata": {},
   "outputs": [
    {
     "data": {
      "text/plain": [
       "torch.Size([5, 27])"
      ]
     },
     "execution_count": 79,
     "metadata": {},
     "output_type": "execute_result"
    }
   ],
   "source": [
    "probs.shape"
   ]
  },
  {
   "cell_type": "code",
   "execution_count": 88,
   "id": "5beef3e6-7058-4a99-aeb9-33f195cbcef2",
   "metadata": {},
   "outputs": [
    {
     "data": {
      "text/plain": [
       "(tensor(0.0123),\n",
       " tensor(0.0181),\n",
       " tensor(0.0267),\n",
       " tensor(0.0737),\n",
       " tensor(0.0150))"
      ]
     },
     "execution_count": 88,
     "metadata": {},
     "output_type": "execute_result"
    }
   ],
   "source": [
    "probs[0, 5], probs[1, 13], probs[2, 13], probs[3, 1], probs[4, 0]"
   ]
  },
  {
   "cell_type": "code",
   "execution_count": 90,
   "id": "bf72e13b-229b-4bc0-8a56-8fcb267faec0",
   "metadata": {},
   "outputs": [
    {
     "data": {
      "text/plain": [
       "tensor([0, 1, 2, 3, 4])"
      ]
     },
     "execution_count": 90,
     "metadata": {},
     "output_type": "execute_result"
    }
   ],
   "source": [
    "torch.arange(5)"
   ]
  },
  {
   "cell_type": "code",
   "execution_count": 93,
   "id": "c1b4972c-f179-4016-8670-a0c21653de02",
   "metadata": {},
   "outputs": [
    {
     "data": {
      "text/plain": [
       "tensor(3.7693)"
      ]
     },
     "execution_count": 93,
     "metadata": {},
     "output_type": "execute_result"
    }
   ],
   "source": [
    "loss = -probs[torch.arange(5), ys].log().mean()\n",
    "loss"
   ]
  },
  {
   "cell_type": "code",
   "execution_count": 83,
   "id": "5a480cca-0d1d-42ea-aed8-2b5e0decc545",
   "metadata": {},
   "outputs": [],
   "source": [
    "chars = sorted(list(set(''.join(words))))\n",
    "stoi = {s:i+1 for i, s in enumerate(chars)}\n",
    "stoi['.'] = 0\n",
    "itos = {i:s for s, i in stoi.items()}"
   ]
  },
  {
   "cell_type": "code",
   "execution_count": 87,
   "id": "ccafb631-ea57-49cb-b105-d3cd5e9c534b",
   "metadata": {},
   "outputs": [
    {
     "name": "stdout",
     "output_type": "stream",
     "text": [
      "-------------\n",
      "bigram example 1: .e (indexes 0, 5)\n",
      "input to the neural net:  0\n",
      "output probabilities from the neural net:  tensor([0.0607, 0.0100, 0.0123, 0.0042, 0.0168, 0.0123, 0.0027, 0.0232, 0.0137,\n",
      "        0.0313, 0.0079, 0.0278, 0.0091, 0.0082, 0.0500, 0.2378, 0.0603, 0.0025,\n",
      "        0.0249, 0.0055, 0.0339, 0.0109, 0.0029, 0.0198, 0.0118, 0.1537, 0.1459])\n",
      "label (actual next character:  5\n",
      "probabilities assigned by the net to the correct character:  0.012286253273487091\n",
      "log likelihood:  -4.3992743492126465\n",
      "negative log likelihood:  4.3992743492126465\n",
      "-------------\n",
      "bigram example 2: em (indexes 5, 13)\n",
      "input to the neural net:  5\n",
      "output probabilities from the neural net:  tensor([0.0290, 0.0796, 0.0248, 0.0521, 0.1989, 0.0289, 0.0094, 0.0335, 0.0097,\n",
      "        0.0301, 0.0702, 0.0228, 0.0115, 0.0181, 0.0108, 0.0315, 0.0291, 0.0045,\n",
      "        0.0916, 0.0215, 0.0486, 0.0300, 0.0501, 0.0027, 0.0118, 0.0022, 0.0472])\n",
      "label (actual next character:  13\n",
      "probabilities assigned by the net to the correct character:  0.018050702288746834\n",
      "log likelihood:  -4.014570713043213\n",
      "negative log likelihood:  4.014570713043213\n",
      "-------------\n",
      "bigram example 3: mm (indexes 13, 13)\n",
      "input to the neural net:  13\n",
      "output probabilities from the neural net:  tensor([0.0312, 0.0737, 0.0484, 0.0333, 0.0674, 0.0200, 0.0263, 0.0249, 0.1226,\n",
      "        0.0164, 0.0075, 0.0789, 0.0131, 0.0267, 0.0147, 0.0112, 0.0585, 0.0121,\n",
      "        0.0650, 0.0058, 0.0208, 0.0078, 0.0133, 0.0203, 0.1204, 0.0469, 0.0126])\n",
      "label (actual next character:  13\n",
      "probabilities assigned by the net to the correct character:  0.026691533625125885\n",
      "log likelihood:  -3.623408794403076\n",
      "negative log likelihood:  3.623408794403076\n",
      "-------------\n",
      "bigram example 4: ma (indexes 13, 1)\n",
      "input to the neural net:  13\n",
      "output probabilities from the neural net:  tensor([0.0312, 0.0737, 0.0484, 0.0333, 0.0674, 0.0200, 0.0263, 0.0249, 0.1226,\n",
      "        0.0164, 0.0075, 0.0789, 0.0131, 0.0267, 0.0147, 0.0112, 0.0585, 0.0121,\n",
      "        0.0650, 0.0058, 0.0208, 0.0078, 0.0133, 0.0203, 0.1204, 0.0469, 0.0126])\n",
      "label (actual next character:  1\n",
      "probabilities assigned by the net to the correct character:  0.07367684692144394\n",
      "log likelihood:  -2.6080667972564697\n",
      "negative log likelihood:  2.6080667972564697\n",
      "-------------\n",
      "bigram example 5: a. (indexes 1, 0)\n",
      "input to the neural net:  1\n",
      "output probabilities from the neural net:  tensor([0.0150, 0.0086, 0.0396, 0.0100, 0.0606, 0.0308, 0.1084, 0.0131, 0.0125,\n",
      "        0.0048, 0.1024, 0.0086, 0.0988, 0.0112, 0.0232, 0.0207, 0.0408, 0.0078,\n",
      "        0.0899, 0.0531, 0.0463, 0.0309, 0.0051, 0.0329, 0.0654, 0.0503, 0.0091])\n",
      "label (actual next character:  0\n",
      "probabilities assigned by the net to the correct character:  0.0149775305762887\n",
      "log likelihood:  -4.201204299926758\n",
      "negative log likelihood:  4.201204299926758\n",
      "==============\n",
      "average negative log likelihood, i.e. loss =  3.7693049907684326\n"
     ]
    }
   ],
   "source": [
    "nlls = torch.zeros(5)\n",
    "\n",
    "for i in range(5):\n",
    "    # i-th bigram:\n",
    "    x = xs[i].item() # input character index\n",
    "    y = ys[i].item() # label character index\n",
    "    print('-------------')\n",
    "    print(f'bigram example {i+1}: {itos[x]}{itos[y]} (indexes {x}, {y})')\n",
    "    print('input to the neural net: ', x)\n",
    "    print('output probabilities from the neural net: ', probs[i])\n",
    "    print('label (actual next character: ', y)\n",
    "\n",
    "    p = probs[i, y]\n",
    "    print('probabilities assigned by the net to the correct character: ', p.item())\n",
    "\n",
    "    logp = torch.log(p)\n",
    "    print('log likelihood: ', logp.item())\n",
    "    nll = -logp\n",
    "    print('negative log likelihood: ', nll.item())\n",
    "    nlls[i] = nll\n",
    "\n",
    "print('==============')\n",
    "print('average negative log likelihood, i.e. loss = ', nlls.mean().item())"
   ]
  },
  {
   "cell_type": "code",
   "execution_count": null,
   "id": "ddb6b9e3-75d4-4087-9d3f-ae72d68f5f34",
   "metadata": {},
   "outputs": [],
   "source": [
    "for x in "
   ]
  }
 ],
 "metadata": {
  "kernelspec": {
   "display_name": "Python 3 (ipykernel)",
   "language": "python",
   "name": "python3"
  },
  "language_info": {
   "codemirror_mode": {
    "name": "ipython",
    "version": 3
   },
   "file_extension": ".py",
   "mimetype": "text/x-python",
   "name": "python",
   "nbconvert_exporter": "python",
   "pygments_lexer": "ipython3",
   "version": "3.12.3"
  }
 },
 "nbformat": 4,
 "nbformat_minor": 5
}
