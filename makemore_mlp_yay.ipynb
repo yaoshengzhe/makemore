{
 "cells": [
  {
   "cell_type": "code",
   "execution_count": 1,
   "id": "2d581194-f67d-4bf9-8cf6-917719641a4a",
   "metadata": {},
   "outputs": [],
   "source": [
    "import torch\n",
    "import torch.nn.functional as F\n",
    "import matplotlib.pyplot as plt"
   ]
  },
  {
   "cell_type": "code",
   "execution_count": 6,
   "id": "11a8c207-c78f-4c85-84ab-68957870de6e",
   "metadata": {},
   "outputs": [
    {
     "data": {
      "text/plain": [
       "['emma',\n",
       " 'olivia',\n",
       " 'ava',\n",
       " 'isabella',\n",
       " 'sophia',\n",
       " 'charlotte',\n",
       " 'mia',\n",
       " 'amelia',\n",
       " 'harper',\n",
       " 'evelyn']"
      ]
     },
     "execution_count": 6,
     "metadata": {},
     "output_type": "execute_result"
    }
   ],
   "source": [
    "words = open('names.txt', 'r').read().splitlines()\n",
    "words[:10]"
   ]
  },
  {
   "cell_type": "code",
   "execution_count": 7,
   "id": "5f51ca03-94b7-444a-881e-d80bf6563500",
   "metadata": {},
   "outputs": [
    {
     "data": {
      "text/plain": [
       "32033"
      ]
     },
     "execution_count": 7,
     "metadata": {},
     "output_type": "execute_result"
    }
   ],
   "source": [
    "len(words)"
   ]
  },
  {
   "cell_type": "code",
   "execution_count": 17,
   "id": "174ee1c2-aed4-4744-a3ee-29632b6e2499",
   "metadata": {},
   "outputs": [],
   "source": [
    "# build the vocabulary of characters and mapping to/from ints\n",
    "chars = sorted(set(list(''.join(words))))\n",
    "stoi = {s:i+1 for i, s in enumerate(chars)}\n",
    "stoi['.'] = 0\n",
    "itos = reversed(stoi)\n",
    "itos = {i:s for s, i in stoi.items()}"
   ]
  },
  {
   "cell_type": "code",
   "execution_count": 239,
   "id": "f8ce0d91-02cb-407a-9daf-f4db4950a5f7",
   "metadata": {},
   "outputs": [
    {
     "name": "stdout",
     "output_type": "stream",
     "text": [
      "emma\n",
      "... -----> e\n",
      "..e -----> m\n",
      ".em -----> m\n",
      "emm -----> a\n",
      "mma -----> .\n",
      "olivia\n",
      "... -----> o\n",
      "..o -----> l\n",
      ".ol -----> i\n",
      "oli -----> v\n",
      "liv -----> i\n",
      "ivi -----> a\n",
      "via -----> .\n",
      "ava\n",
      "... -----> a\n",
      "..a -----> v\n",
      ".av -----> a\n",
      "ava -----> .\n",
      "isabella\n",
      "... -----> i\n",
      "..i -----> s\n",
      ".is -----> a\n",
      "isa -----> b\n",
      "sab -----> e\n",
      "abe -----> l\n",
      "bel -----> l\n",
      "ell -----> a\n",
      "lla -----> .\n",
      "sophia\n",
      "... -----> s\n",
      "..s -----> o\n",
      ".so -----> p\n",
      "sop -----> h\n",
      "oph -----> i\n",
      "phi -----> a\n",
      "hia -----> .\n"
     ]
    }
   ],
   "source": [
    "# build the dataset\n",
    "\n",
    "block_size = 3 # context length: how many characters do we take to predict the next one?\n",
    "X, Y = [], []\n",
    "\n",
    "for w in words[:5]:\n",
    "    print(w)\n",
    "    expanded_word = '.'*block_size + w\n",
    "    for i, (x, y) in enumerate(zip(expanded_word, w+'.')):\n",
    "        X.append([stoi[expanded_word[k]] for k in range(i, i+block_size)])\n",
    "        Y.append(stoi[y])\n",
    "        print(f'{''.join([itos[j] for j in X[-1]])} -----> {y}')\n",
    "\n",
    "X = torch.tensor(X)\n",
    "Y = torch.tensor(Y)"
   ]
  },
  {
   "cell_type": "code",
   "execution_count": 42,
   "id": "0a9b39a1-0e60-4528-9441-d8809b78f33e",
   "metadata": {},
   "outputs": [
    {
     "data": {
      "text/plain": [
       "(torch.Size([32, 3]), torch.int64, torch.Size([32]), torch.int64)"
      ]
     },
     "execution_count": 42,
     "metadata": {},
     "output_type": "execute_result"
    }
   ],
   "source": [
    "X.shape, X.dtype, Y.shape, Y.dtype"
   ]
  },
  {
   "cell_type": "code",
   "execution_count": 45,
   "id": "9e05ebcf-b63c-4825-937f-ae8dd0421c45",
   "metadata": {},
   "outputs": [
    {
     "data": {
      "text/plain": [
       "tensor([[ 0.8870, -1.5686],\n",
       "        [-0.4000,  0.4145],\n",
       "        [-1.0300,  1.0387],\n",
       "        [ 0.1065, -0.3781],\n",
       "        [-1.4015,  0.2530],\n",
       "        [ 0.8072, -0.5592],\n",
       "        [-0.6381, -1.5295],\n",
       "        [ 1.6929,  0.3401],\n",
       "        [ 1.0718, -0.9760],\n",
       "        [-1.0135, -0.2716],\n",
       "        [-1.1270,  0.6658],\n",
       "        [-0.3562,  0.4413],\n",
       "        [ 0.0426,  0.7348],\n",
       "        [ 1.1643,  1.8471],\n",
       "        [-1.2873,  2.4423],\n",
       "        [ 0.2946,  0.2865],\n",
       "        [-0.2674,  0.9597],\n",
       "        [ 0.3423, -0.0964],\n",
       "        [ 0.7108,  0.7307],\n",
       "        [-1.0887,  0.5018],\n",
       "        [ 1.5496, -0.7767],\n",
       "        [ 1.7174,  0.1985],\n",
       "        [-0.3710,  1.2326],\n",
       "        [ 0.2781, -0.1558],\n",
       "        [ 0.2753,  0.2755],\n",
       "        [ 0.4004,  1.2411],\n",
       "        [-0.0324,  0.8313]])"
      ]
     },
     "execution_count": 45,
     "metadata": {},
     "output_type": "execute_result"
    }
   ],
   "source": [
    "C = torch.randn((27, 2))\n",
    "C"
   ]
  },
  {
   "cell_type": "code",
   "execution_count": 57,
   "id": "89d4dcab-9dd8-41cc-a119-2b04965a2524",
   "metadata": {},
   "outputs": [
    {
     "data": {
      "text/plain": [
       "tensor([ 0.8072, -0.5592])"
      ]
     },
     "execution_count": 57,
     "metadata": {},
     "output_type": "execute_result"
    }
   ],
   "source": [
    "C[5]\n",
    "# alternative way (but slower): F.one_hot(torch.tensor(5), num_classes=27).float() @ C"
   ]
  },
  {
   "cell_type": "code",
   "execution_count": 66,
   "id": "d5a61196-5df9-4ca0-894e-cd7079a8850d",
   "metadata": {},
   "outputs": [
    {
     "data": {
      "text/plain": [
       "torch.Size([32, 3, 2])"
      ]
     },
     "execution_count": 66,
     "metadata": {},
     "output_type": "execute_result"
    }
   ],
   "source": [
    "emb = C[X]\n",
    "emb.shape"
   ]
  },
  {
   "cell_type": "code",
   "execution_count": 97,
   "id": "3d534e57-492a-42a7-98c3-5d9873903608",
   "metadata": {},
   "outputs": [
    {
     "data": {
      "text/plain": [
       "(torch.Size([6, 100]), torch.Size([100]))"
      ]
     },
     "execution_count": 97,
     "metadata": {},
     "output_type": "execute_result"
    }
   ],
   "source": [
    "W1 = torch.randn((3*2, 100))\n",
    "b1 = torch.randn(100)\n",
    "W1.shape, b1.shape"
   ]
  },
  {
   "cell_type": "code",
   "execution_count": 72,
   "id": "b7ceb7c0-e466-4d1c-8dd0-8597b856eee7",
   "metadata": {},
   "outputs": [
    {
     "ename": "RuntimeError",
     "evalue": "mat1 and mat2 shapes cannot be multiplied (96x2 and 6x100)",
     "output_type": "error",
     "traceback": [
      "\u001b[0;31m---------------------------------------------------------------------------\u001b[0m",
      "\u001b[0;31mRuntimeError\u001b[0m                              Traceback (most recent call last)",
      "Cell \u001b[0;32mIn[72], line 1\u001b[0m\n\u001b[0;32m----> 1\u001b[0m \u001b[43memb\u001b[49m\u001b[43m \u001b[49m\u001b[38;5;241;43m@\u001b[39;49m\u001b[43m \u001b[49m\u001b[43mW1\u001b[49m \u001b[38;5;241m+\u001b[39m b1\n",
      "\u001b[0;31mRuntimeError\u001b[0m: mat1 and mat2 shapes cannot be multiplied (96x2 and 6x100)"
     ]
    }
   ],
   "source": [
    "emb @ W1 + b1"
   ]
  },
  {
   "cell_type": "code",
   "execution_count": 78,
   "id": "0b7a9a44-0b38-442c-b47f-5a2822031e1f",
   "metadata": {},
   "outputs": [
    {
     "data": {
      "text/plain": [
       "torch.Size([32, 6])"
      ]
     },
     "execution_count": 78,
     "metadata": {},
     "output_type": "execute_result"
    }
   ],
   "source": [
    "torch.cat([emb[:, 0, :], emb[:, 1, :], emb[:, 2, :]], 1).shape"
   ]
  },
  {
   "cell_type": "code",
   "execution_count": 86,
   "id": "d5fbbbd6-2dcd-4e34-ad15-42a6355fe71e",
   "metadata": {},
   "outputs": [
    {
     "data": {
      "text/plain": [
       "torch.Size([32, 6])"
      ]
     },
     "execution_count": 86,
     "metadata": {},
     "output_type": "execute_result"
    }
   ],
   "source": [
    "torch.cat(torch.unbind(emb, 1), 1).shape"
   ]
  },
  {
   "cell_type": "code",
   "execution_count": 103,
   "id": "0e8aa515-a541-4173-bb92-0e33cdec94a4",
   "metadata": {},
   "outputs": [
    {
     "data": {
      "text/plain": [
       "torch.Size([32, 100])"
      ]
     },
     "execution_count": 103,
     "metadata": {},
     "output_type": "execute_result"
    }
   ],
   "source": [
    "h = torch.tanh(emb.view(32, 6) @ W1 + b1)\n",
    "h.shape"
   ]
  },
  {
   "cell_type": "code",
   "execution_count": 104,
   "id": "ce12fabc-ee68-419f-9bc7-d402f5fdb7a2",
   "metadata": {},
   "outputs": [],
   "source": [
    "W2 = torch.randn((100, 27))\n",
    "b2 = torch.randn(27)"
   ]
  },
  {
   "cell_type": "code",
   "execution_count": 105,
   "id": "460e7bf2-05c3-446c-99d6-aaff9c1dd30e",
   "metadata": {},
   "outputs": [
    {
     "data": {
      "text/plain": [
       "torch.Size([32, 27])"
      ]
     },
     "execution_count": 105,
     "metadata": {},
     "output_type": "execute_result"
    }
   ],
   "source": [
    "logits = h @ W2 + b2\n",
    "logits.shape"
   ]
  },
  {
   "cell_type": "code",
   "execution_count": 107,
   "id": "ce0bbe03-99ed-4d0d-986d-bd94ee392c23",
   "metadata": {},
   "outputs": [],
   "source": [
    "counts = logits.exp()\n",
    "\n",
    "prob = counts / counts.sum(1, keepdim=True)"
   ]
  },
  {
   "cell_type": "code",
   "execution_count": 139,
   "id": "2e1bdd3a-84e3-4815-89d3-f411c09f9f77",
   "metadata": {},
   "outputs": [
    {
     "data": {
      "text/plain": [
       "torch.Size([32, 27])"
      ]
     },
     "execution_count": 139,
     "metadata": {},
     "output_type": "execute_result"
    }
   ],
   "source": [
    "prob.shape"
   ]
  },
  {
   "cell_type": "code",
   "execution_count": 119,
   "id": "8ae12259-fea1-4600-ab71-6396f04e17d4",
   "metadata": {},
   "outputs": [
    {
     "data": {
      "text/plain": [
       "tensor(17.6115)"
      ]
     },
     "execution_count": 119,
     "metadata": {},
     "output_type": "execute_result"
    }
   ],
   "source": [
    "loss = -prob[torch.arange(32), Y].log().mean()\n",
    "loss"
   ]
  },
  {
   "cell_type": "code",
   "execution_count": 527,
   "id": "fcaf0f52-0426-4429-8e56-9f2c880f556c",
   "metadata": {},
   "outputs": [],
   "source": [
    "context_len = 5 # context length: how many characters do we take to predict the next one?\n",
    "embedding_size = 30\n",
    "hidden_size = 500\n",
    "\n",
    "g = torch.Generator().manual_seed(2147483647)\n",
    "C = torch.randn((27, embedding_size), requires_grad=True, generator=g)\n",
    "W1 = torch.randn((context_len * embedding_size, hidden_size), requires_grad=True, generator=g)\n",
    "b1 = torch.randn(hidden_size, requires_grad=True, generator=g)\n",
    "W2 = torch.randn((hidden_size, 27), requires_grad=True, generator=g)\n",
    "b2 = torch.randn(27, requires_grad=True, generator=g)\n",
    "\n",
    "parameters = [C, W1, b1, W2, b2]"
   ]
  },
  {
   "cell_type": "code",
   "execution_count": 502,
   "id": "8da62d38-8efa-4f22-b66a-03c5b58d2fd2",
   "metadata": {},
   "outputs": [
    {
     "data": {
      "text/plain": [
       "1.0027492046356201"
      ]
     },
     "execution_count": 502,
     "metadata": {},
     "output_type": "execute_result"
    }
   ],
   "source": [
    "num_parameters = sum(map(torch.numel, parameters))\n",
    "(sum([(p.view(-1)**2).sum() for p in parameters]) / num_parameters).item()"
   ]
  },
  {
   "cell_type": "code",
   "execution_count": 503,
   "id": "69ed8c95-c653-415b-b371-bbfbdc51ec12",
   "metadata": {},
   "outputs": [
    {
     "data": {
      "text/plain": [
       "36437"
      ]
     },
     "execution_count": 503,
     "metadata": {},
     "output_type": "execute_result"
    }
   ],
   "source": [
    "sum(map(torch.numel, parameters))"
   ]
  },
  {
   "cell_type": "code",
   "execution_count": 528,
   "id": "d6471532-e592-4d9a-a6ee-199eeca0d01f",
   "metadata": {},
   "outputs": [],
   "source": [
    "\n",
    "def build_dataset(words):\n",
    "    X, Y = [], []\n",
    "    \n",
    "    for w in words:\n",
    "        expanded_word = '.'*context_len + w\n",
    "        for i, (x, y) in enumerate(zip(expanded_word, w+'.')):\n",
    "            X.append([stoi[expanded_word[k]] for k in range(i, i+context_len)])\n",
    "            Y.append(stoi[y])\n",
    "    \n",
    "    X = torch.tensor(X)\n",
    "    Y = torch.tensor(Y)\n",
    "    return X, Y\n",
    "\n",
    "X, Y = build_dataset(words)"
   ]
  },
  {
   "cell_type": "code",
   "execution_count": 529,
   "id": "8cafea4e-ae67-462f-858f-56e9f8aec134",
   "metadata": {},
   "outputs": [],
   "source": [
    "import random\n",
    "\n",
    "random.seed(42)\n",
    "\n",
    "random.shuffle(words)\n",
    "training_split = int(0.8*len(words))\n",
    "dev_split = int(0.9*len(words))\n",
    "\n",
    "X_train, Y_train = build_dataset(words[:training_split])\n",
    "X_dev, Y_dev = build_dataset(words[training_split:dev_split])\n",
    "X_test, Y_test = build_dataset(words[dev_split:])"
   ]
  },
  {
   "cell_type": "code",
   "execution_count": 530,
   "id": "69e903da-03e2-4fd4-818a-72877e8f96ae",
   "metadata": {},
   "outputs": [
    {
     "data": {
      "text/plain": [
       "(25626, 28829)"
      ]
     },
     "execution_count": 530,
     "metadata": {},
     "output_type": "execute_result"
    }
   ],
   "source": [
    "training_split, dev_split"
   ]
  },
  {
   "cell_type": "code",
   "execution_count": 531,
   "id": "8438652f-d197-4313-a4f4-ededf829ba4f",
   "metadata": {},
   "outputs": [
    {
     "data": {
      "text/plain": [
       "(torch.Size([228146, 5]), torch.Size([228146]))"
      ]
     },
     "execution_count": 531,
     "metadata": {},
     "output_type": "execute_result"
    }
   ],
   "source": [
    "X.shape, Y.shape"
   ]
  },
  {
   "cell_type": "code",
   "execution_count": 532,
   "id": "8dbe518a-eb4e-4209-baa9-9cef3ea8b68e",
   "metadata": {},
   "outputs": [],
   "source": [
    "def softmax(inputs):\n",
    "    counts = inputs.exp()\n",
    "    probs = counts / counts.sum(1, keepdim=True)\n",
    "    return probs"
   ]
  },
  {
   "cell_type": "code",
   "execution_count": 533,
   "id": "8071e49f-0f23-4a04-b814-15f5ec86c440",
   "metadata": {},
   "outputs": [],
   "source": [
    "def forward(inputs):\n",
    "    # inputs: N x context_length\n",
    "    # C: 27 x 2\n",
    "    # C[xs] N x context_length x 2\n",
    "    num_examples = inputs.shape[0]\n",
    "    first_layer = C[inputs].view(num_examples, context_len*embedding_size) @ W1 + b1 # N x 100\n",
    "    second_layer = torch.tanh(first_layer) @ W2 + b2 # N x 27\n",
    "    return second_layer # N x 27"
   ]
  },
  {
   "cell_type": "code",
   "execution_count": 534,
   "id": "0b49718c-d85b-45cc-8931-2fc04dc466ed",
   "metadata": {},
   "outputs": [
    {
     "data": {
      "text/plain": [
       "tensor(40.5639, grad_fn=<NllLossBackward0>)"
      ]
     },
     "execution_count": 534,
     "metadata": {},
     "output_type": "execute_result"
    }
   ],
   "source": [
    "num_examples = torch.arange(X.shape[0])\n",
    "logits = forward(X) # N x 27\n",
    "F.cross_entropy(logits, Y)"
   ]
  },
  {
   "cell_type": "code",
   "execution_count": 512,
   "id": "8e642a36-8a53-4d0c-8700-38a5af0797cb",
   "metadata": {},
   "outputs": [],
   "source": [
    "lre = torch.linspace(-3, 0, 1000)\n",
    "lrs = 10**lre"
   ]
  },
  {
   "cell_type": "code",
   "execution_count": 555,
   "id": "59bcdb69-ac55-4913-85bb-6af4a82da8b1",
   "metadata": {},
   "outputs": [],
   "source": [
    "num_examples = torch.arange(X.shape[0])\n",
    "learning_rate = 0.01\n",
    "num_parameters = sum(map(torch.numel, parameters))\n",
    "iteration = 50000\n",
    "batch_size = 128\n",
    "\n",
    "lri = []\n",
    "lossi = []\n",
    "stepi = []"
   ]
  },
  {
   "cell_type": "code",
   "execution_count": 556,
   "id": "ea4da3fa-281c-4b13-be35-b70cfa49badd",
   "metadata": {},
   "outputs": [
    {
     "name": "stdout",
     "output_type": "stream",
     "text": [
      "loss = 1.8573143482208252\n"
     ]
    }
   ],
   "source": [
    "for i in range(iteration):\n",
    "    stepi.append(i)\n",
    "    \n",
    "    batch_index = torch.randint(0, X_train.shape[0], (batch_size, ))\n",
    "    \n",
    "    logits = forward(X_train[batch_index]) # N x 27\n",
    "    # mse = (sum([(p.view(-1)**2).sum() for p in parameters]) / num_parameters).item()\n",
    "\n",
    "    loss = F.cross_entropy(logits, Y_train[batch_index]) # + mse # N x 1\n",
    "\n",
    "    #print(f'loss = {loss}')\n",
    "\n",
    "    for p in parameters:\n",
    "        p.grad = None\n",
    "\n",
    "    loss.backward()\n",
    "    \n",
    "    #learning_rate = lrs[i]\n",
    "\n",
    "    #lri.append(lre[i])\n",
    "    lossi.append(loss.log10().item())\n",
    "\n",
    "    for p in parameters:\n",
    "        #decay = max(0.2, (iteration - i + 1) / iteration)\n",
    "        p.data += -learning_rate * p.grad # * decay\n",
    "\n",
    "logits = forward(X_train)\n",
    "loss = F.cross_entropy(logits, Y_train)\n",
    "\n",
    "print(f'loss = {loss}')"
   ]
  },
  {
   "cell_type": "code",
   "execution_count": 537,
   "id": "249ebcc7-c531-47fe-8152-192d3aa4bcc7",
   "metadata": {},
   "outputs": [
    {
     "data": {
      "text/plain": [
       "[<matplotlib.lines.Line2D at 0x38691d670>]"
      ]
     },
     "execution_count": 537,
     "metadata": {},
     "output_type": "execute_result"
    },
    {
     "data": {
      "image/png": "[encoded data removed]",
      "text/plain": [
       "<Figure size 640x480 with 1 Axes>"
      ]
     },
     "metadata": {},
     "output_type": "display_data"
    }
   ],
   "source": [
    "plt.plot(stepi, lossi)"
   ]
  },
  {
   "cell_type": "code",
   "execution_count": 557,
   "id": "e3bd17c7-7b91-48a6-8bbd-0b39c98ddefe",
   "metadata": {},
   "outputs": [
    {
     "name": "stdout",
     "output_type": "stream",
     "text": [
      "dev loss = 2.2360570430755615\n"
     ]
    }
   ],
   "source": [
    "logits = forward(X_dev) # N x 27\n",
    "loss = F.cross_entropy(logits, Y_dev) # + mse # N x 1\n",
    "print(f'dev loss = {loss}')"
   ]
  },
  {
   "cell_type": "code",
   "execution_count": 470,
   "id": "7d3ae829-7e28-4792-a8cc-6378e48be1a7",
   "metadata": {},
   "outputs": [
    {
     "data": {
      "text/plain": [
       "torch.Size([27, 2])"
      ]
     },
     "execution_count": 470,
     "metadata": {},
     "output_type": "execute_result"
    }
   ],
   "source": [
    "C.shape"
   ]
  },
  {
   "cell_type": "code",
   "execution_count": 471,
   "id": "292fac68-c2d7-467a-bc56-ff1df8bd0faa",
   "metadata": {},
   "outputs": [
    {
     "data": {
      "image/png": "[encoded data removed]",
      "text/plain": [
       "<Figure size 800x800 with 1 Axes>"
      ]
     },
     "metadata": {},
     "output_type": "display_data"
    }
   ],
   "source": [
    "plt.figure(figsize=(8, 8))\n",
    "plt.scatter(C[:, 0].data, C[:, 1].data, s=200)\n",
    "\n",
    "for i in range(C.shape[0]):\n",
    "    plt.text(C[i,0].item(), C[i, 1].item(), itos[i], ha='center', va='center', color='white')\n",
    "plt.grid('minor')"
   ]
  },
  {
   "cell_type": "code",
   "execution_count": 558,
   "id": "7432edd6-4a12-470c-bb95-870ebe4ae44e",
   "metadata": {},
   "outputs": [
    {
     "name": "stdout",
     "output_type": "stream",
     "text": [
      "celie.\n",
      "mouli.\n",
      "raileighanner.\n",
      "jimitham.\n",
      "rakayn.\n",
      "katar.\n",
      "samiyah.\n",
      "jaleigh.\n",
      "tai.\n",
      "molie.\n"
     ]
    }
   ],
   "source": [
    "def predict(n):\n",
    "    g = torch.Generator().manual_seed(2147483647)\n",
    "\n",
    "    for i in range(n):\n",
    "        out = []\n",
    "        context = [0] * context_len\n",
    "\n",
    "        while True:\n",
    "            logits = forward(torch.tensor([context]))\n",
    "            probs = F.softmax(logits, dim=1)\n",
    "            pred_y = torch.multinomial(probs, num_samples=1, replacement=True, generator=g).item()\n",
    "\n",
    "            out.append(itos[pred_y])\n",
    "            \n",
    "            if pred_y == 0:\n",
    "                break\n",
    "\n",
    "            context = context[1:] + [pred_y]\n",
    "        print(''.join(out))\n",
    "\n",
    "predict(10)"
   ]
  },
  {
   "cell_type": "code",
   "execution_count": 315,
   "id": "840ac851-7bf0-4714-b9a1-51865daf32d2",
   "metadata": {},
   "outputs": [
    {
     "data": {
      "text/plain": [
       "tensor([1, 3, 3, 1, 3, 3, 3, 1, 3, 1, 3, 2, 0, 0, 2, 2, 2, 1, 4, 1, 0, 3, 3, 4,\n",
       "        4, 4, 3, 3, 4, 2, 2, 4])"
      ]
     },
     "execution_count": 315,
     "metadata": {},
     "output_type": "execute_result"
    }
   ],
   "source": [
    "torch.randint(0, 5, (32,))"
   ]
  },
  {
   "cell_type": "code",
   "execution_count": null,
   "id": "6559172e-8dea-4a5b-ae73-f8e43d6392b6",
   "metadata": {},
   "outputs": [],
   "source": [
    "# training split, dev/validation split, test split\n",
    "# 80%, 10%, 10%\n",
    "# train parameters, train hyper-parameters, test\n",
    "\n"
   ]
  }
 ],
 "metadata": {
  "kernelspec": {
   "display_name": "Python 3 (ipykernel)",
   "language": "python",
   "name": "python3"
  },
  "language_info": {
   "codemirror_mode": {
    "name": "ipython",
    "version": 3
   },
   "file_extension": ".py",
   "mimetype": "text/x-python",
   "name": "python",
   "nbconvert_exporter": "python",
   "pygments_lexer": "ipython3",
   "version": "3.12.3"
  }
 },
 "nbformat": 4,
 "nbformat_minor": 5
}
