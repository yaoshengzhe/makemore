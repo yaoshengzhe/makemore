{
 "cells": [
  {
   "cell_type": "code",
   "execution_count": 1,
   "id": "cc1932bd-7c3f-4634-988c-a3e03e566da3",
   "metadata": {},
   "outputs": [],
   "source": [
    "import torch\n",
    "import torch.nn.functional as Func\n",
    "import matplotlib.pyplot as plt"
   ]
  },
  {
   "cell_type": "code",
   "execution_count": 2,
   "id": "736bae3a-70ff-4050-b728-2421571f4f8b",
   "metadata": {},
   "outputs": [
    {
     "data": {
      "text/plain": [
       "['emma', 'olivia', 'ava', 'isabella', 'sophia']"
      ]
     },
     "execution_count": 2,
     "metadata": {},
     "output_type": "execute_result"
    }
   ],
   "source": [
    "# read in all the words\n",
    "words = open('names.txt', 'r').read().splitlines()\n",
    "words[:5]"
   ]
  },
  {
   "cell_type": "code",
   "execution_count": 3,
   "id": "fa44f7fe-d444-46ed-bec7-c7a966480f81",
   "metadata": {},
   "outputs": [
    {
     "data": {
      "text/plain": [
       "32033"
      ]
     },
     "execution_count": 3,
     "metadata": {},
     "output_type": "execute_result"
    }
   ],
   "source": [
    "len(words)"
   ]
  },
  {
   "cell_type": "code",
   "execution_count": 4,
   "id": "d52524a7-7884-4486-8f7d-e090eb9494e2",
   "metadata": {},
   "outputs": [
    {
     "data": {
      "text/plain": [
       "27"
      ]
     },
     "execution_count": 4,
     "metadata": {},
     "output_type": "execute_result"
    }
   ],
   "source": [
    "# build the vocabulary of characters and mapping to/from integers\n",
    "chars = sorted(list(set(''.join(words))))\n",
    "stoi = {s:i+1 for i, s in enumerate(chars)}\n",
    "stoi['.'] = 0\n",
    "\n",
    "itos = {i:s for s, i in stoi.items()}\n",
    "\n",
    "vocab_size = len(itos)\n",
    "vocab_size"
   ]
  },
  {
   "cell_type": "code",
   "execution_count": 5,
   "id": "741cb67b-4b4c-4e1c-9b69-7bf0861747d7",
   "metadata": {},
   "outputs": [],
   "source": [
    "context_len = 3"
   ]
  },
  {
   "cell_type": "code",
   "execution_count": 6,
   "id": "9d97622e-7f35-43df-897b-7dd62bc2a891",
   "metadata": {},
   "outputs": [],
   "source": [
    "def build_dataset(words):\n",
    "    X, Y = [], []\n",
    "    \n",
    "    for w in words:\n",
    "        expanded_word = '.'*context_len + w\n",
    "        for i, (x, y) in enumerate(zip(expanded_word, w+'.')):\n",
    "            X.append([stoi[expanded_word[k]] for k in range(i, i+context_len)])\n",
    "            Y.append(stoi[y])\n",
    "    \n",
    "    X = torch.tensor(X)\n",
    "    Y = torch.tensor(Y)\n",
    "    return X, Y\n",
    "\n",
    "X, Y = build_dataset(words)"
   ]
  },
  {
   "cell_type": "code",
   "execution_count": 18,
   "id": "b1287129-dd5b-4312-9d85-d11dfd390f6c",
   "metadata": {},
   "outputs": [],
   "source": [
    "import random\n",
    "\n",
    "random.seed(42)\n",
    "\n",
    "random.shuffle(words)\n",
    "training_split = int(0.8*len(words))\n",
    "dev_split = int(0.9*len(words))\n",
    "\n",
    "X_train, Y_train = build_dataset(words[:training_split])\n",
    "X_dev, Y_dev = build_dataset(words[training_split:dev_split])\n",
    "X_test, Y_test = build_dataset(words[dev_split:])"
   ]
  },
  {
   "cell_type": "code",
   "execution_count": 158,
   "id": "a9afd899-59d9-4f13-8b43-3a42bb9c55a6",
   "metadata": {},
   "outputs": [
    {
     "data": {
      "text/plain": [
       "12097"
      ]
     },
     "execution_count": 158,
     "metadata": {},
     "output_type": "execute_result"
    }
   ],
   "source": [
    "context_len = 3 # context length: how many characters do we take to predict the next one?\n",
    "n_embed = 10\n",
    "n_hidden = 200\n",
    "\n",
    "g = torch.Generator().manual_seed(2147483647)\n",
    "C = torch.randn((vocab_size, n_embed), generator=g)\n",
    "W1 = torch.randn((context_len * n_embed, n_hidden), generator=g) * (5/3) / ((n_embed * context_len)**0.5) # * 0.2\n",
    "b1 = torch.randn(n_hidden, generator=g) * 0.01\n",
    "W2 = torch.randn((n_hidden, vocab_size), generator=g) * 0.01\n",
    "b2 = torch.randn(vocab_size, generator=g) * 0\n",
    "\n",
    "bngain = torch.ones((1, n_hidden))\n",
    "bnbias = torch.zeros((1, n_hidden))\n",
    "bnmean_running = torch.zeros((1, n_hidden))\n",
    "bnstd_running = torch.ones((1, n_hidden))\n",
    "\n",
    "parameters = [C, W1, W2, b2, bngain, bnbias]\n",
    "\n",
    "for p in parameters:\n",
    "    p.requires_grad = True\n",
    "\n",
    "sum([p.nelement() for p in parameters])"
   ]
  },
  {
   "cell_type": "code",
   "execution_count": 104,
   "id": "e34fcaf2-1db8-4c40-81df-43aa625217cb",
   "metadata": {},
   "outputs": [
    {
     "data": {
      "text/plain": [
       "tensor(0.1999)"
      ]
     },
     "execution_count": 104,
     "metadata": {},
     "output_type": "execute_result"
    }
   ],
   "source": [
    "(torch.randn(1000)*0.2).std()"
   ]
  },
  {
   "cell_type": "code",
   "execution_count": 105,
   "id": "1b1dbe74-0958-40c6-a0bc-552065421114",
   "metadata": {},
   "outputs": [
    {
     "data": {
      "text/plain": [
       "0.3042903097250923"
      ]
     },
     "execution_count": 105,
     "metadata": {},
     "output_type": "execute_result"
    }
   ],
   "source": [
    "(5/3) / (30**0.5)"
   ]
  },
  {
   "cell_type": "code",
   "execution_count": 100,
   "id": "07986c35-6fff-4325-87e5-f3275786fa11",
   "metadata": {},
   "outputs": [
    {
     "name": "stdout",
     "output_type": "stream",
     "text": [
      "tensor(0.0248) tensor(0.9957)\n",
      "tensor(-0.0051) tensor(0.9954)\n"
     ]
    },
    {
     "data": {
      "text/plain": [
       "(array([2.00844832e-05, 4.01689664e-05, 2.00844832e-05, 8.03379327e-05,\n",
       "        1.00422416e-04, 2.20929315e-04, 3.81605180e-04, 6.42703462e-04,\n",
       "        1.20506899e-03, 2.16912418e-03, 3.83613629e-03, 5.68390874e-03,\n",
       "        1.04037623e-02, 1.64692762e-02, 2.63508419e-02, 4.18962319e-02,\n",
       "        6.63189634e-02, 9.66867020e-02, 1.41535353e-01, 2.03435730e-01,\n",
       "        2.70718749e-01, 3.39809371e-01, 3.96909557e-01, 4.36797340e-01,\n",
       "        4.31495037e-01, 3.95061784e-01, 3.19524043e-01, 2.48384803e-01,\n",
       "        1.86765609e-01, 1.32557589e-01, 8.98579777e-02, 5.71604391e-02,\n",
       "        3.76584060e-02, 2.30369022e-02, 1.35771106e-02, 8.31497604e-03,\n",
       "        4.59934665e-03, 2.95241903e-03, 1.90802590e-03, 9.64055192e-04,\n",
       "        6.22618978e-04, 2.81182764e-04, 2.20929315e-04, 6.02534495e-05,\n",
       "        8.03379327e-05, 4.01689664e-05, 0.00000000e+00, 0.00000000e+00,\n",
       "        0.00000000e+00, 4.01689664e-05]),\n",
       " array([-5.94711494, -5.69816654, -5.44921814, -5.20026974, -4.95132133,\n",
       "        -4.70237293, -4.45342453, -4.20447613, -3.95552773, -3.70657932,\n",
       "        -3.45763092, -3.20868252, -2.95973412, -2.71078571, -2.46183731,\n",
       "        -2.21288891, -1.96394051, -1.7149921 , -1.4660437 , -1.2170953 ,\n",
       "        -0.9681469 , -0.71919849, -0.47025009, -0.22130169,  0.02764671,\n",
       "         0.27659512,  0.52554352,  0.77449192,  1.02344032,  1.27238873,\n",
       "         1.52133713,  1.77028553,  2.01923393,  2.26818233,  2.51713074,\n",
       "         2.76607914,  3.01502754,  3.26397594,  3.51292435,  3.76187275,\n",
       "         4.01082115,  4.25976955,  4.50871796,  4.75766636,  5.00661476,\n",
       "         5.25556316,  5.50451157,  5.75345997,  6.00240837,  6.25135677,\n",
       "         6.50030518]),\n",
       " <BarContainer object of 50 artists>)"
      ]
     },
     "execution_count": 100,
     "metadata": {},
     "output_type": "execute_result"
    },
    {
     "data": {
      "image/png": "[encoded data removed]",
      "text/plain": [
       "<Figure size 2000x500 with 2 Axes>"
      ]
     },
     "metadata": {},
     "output_type": "display_data"
    }
   ],
   "source": [
    "x = torch.randn(1000, 10)\n",
    "w = torch.randn(10, 200) / 10**0.5\n",
    "y = x @ w\n",
    "\n",
    "print(x.mean(), x.std())\n",
    "print(y.mean(), y.std())\n",
    "\n",
    "plt.figure(figsize=(20, 5))\n",
    "plt.subplot(121)\n",
    "plt.hist(x.view(-1).tolist(), 50, density=True)\n",
    "plt.subplot(122)\n",
    "plt.hist(y.view(-1).tolist(), 50, density=True)"
   ]
  },
  {
   "cell_type": "code",
   "execution_count": 159,
   "id": "81e80739-9515-4639-9728-91766ca02417",
   "metadata": {},
   "outputs": [
    {
     "name": "stdout",
     "output_type": "stream",
     "text": [
      "      0/ 200000: 3.3014\n",
      "  10000/ 200000: 2.4789\n",
      "  20000/ 200000: 2.3364\n",
      "  30000/ 200000: 2.1072\n",
      "  40000/ 200000: 2.0523\n",
      "  50000/ 200000: 2.4329\n",
      "  60000/ 200000: 2.2905\n",
      "  70000/ 200000: 2.0826\n",
      "  80000/ 200000: 2.0123\n",
      "  90000/ 200000: 2.0183\n",
      " 100000/ 200000: 2.4473\n",
      " 110000/ 200000: 2.0486\n",
      " 120000/ 200000: 2.1925\n",
      " 130000/ 200000: 2.3583\n",
      " 140000/ 200000: 2.2693\n",
      " 150000/ 200000: 2.3672\n",
      " 160000/ 200000: 2.0888\n",
      " 170000/ 200000: 2.0872\n",
      " 180000/ 200000: 2.4111\n",
      " 190000/ 200000: 1.8808\n"
     ]
    }
   ],
   "source": [
    "max_steps = 200_000\n",
    "batch_size = 32\n",
    "lossi = []\n",
    "\n",
    "for i in range(max_steps):    \n",
    "    batch_index = torch.randint(0, X_train.shape[0], (batch_size, ), generator=g)\n",
    "    X_batch = X_train[batch_index]\n",
    "    Y_batch = Y_train[batch_index]\n",
    "\n",
    "    #forward\n",
    "    emd = C[X_batch]\n",
    "    h_preact = emd.view(emd.shape[0], -1) @ W1# + b1 # hidden layer pre-activation\n",
    "\n",
    "    bnmeani = h_preact.mean(0, keepdim=True)\n",
    "    bnstdi = h_preact.std(0, keepdim=True)\n",
    "    \n",
    "    h_preact = bngain * (h_preact - bnmeani) / bnstdi + bnbias\n",
    "\n",
    "    with torch.no_grad():\n",
    "        bnmean_running = 0.999 * bnmean_running + 0.001 * bnmeani\n",
    "        bnstd_running = 0.999 * bnstd_running + 0.001 * bnstdi\n",
    "    \n",
    "    h = torch.tanh(h_preact)\n",
    "    logits = h @ W2 + b2 # output layer\n",
    "    \n",
    "    loss = Func.cross_entropy(logits, Y_batch) # + mse # N x 1\n",
    "\n",
    "\n",
    "    #backward\n",
    "    for p in parameters:\n",
    "        p.grad = None\n",
    "\n",
    "    loss.backward()\n",
    "    \n",
    "    # update\n",
    "    learning_rate = 0.1 if i < 100_000 else 0.01 # step learning rate decay\n",
    "    \n",
    "    for p in parameters:\n",
    "        p.data += -learning_rate * p.grad #\n",
    "\n",
    "    # track stats\n",
    "    if i % 10_000 == 0:\n",
    "        print(f'{i:7d}/{max_steps:7d}: {loss.item():.4f}')\n",
    "\n",
    "    lossi.append(loss.log10().item())\n",
    "    #break"
   ]
  },
  {
   "cell_type": "code",
   "execution_count": 160,
   "id": "ab96c669-5ea4-431f-a21c-b56d11280e39",
   "metadata": {},
   "outputs": [
    {
     "data": {
      "text/plain": [
       "<matplotlib.image.AxesImage at 0x35cca0e90>"
      ]
     },
     "execution_count": 160,
     "metadata": {},
     "output_type": "execute_result"
    },
    {
     "data": {
      "image/png": "[encoded data removed]",
      "text/plain": [
       "<Figure size 2000x1000 with 1 Axes>"
      ]
     },
     "metadata": {},
     "output_type": "display_data"
    }
   ],
   "source": [
    "plt.figure(figsize=(20, 10))\n",
    "plt.imshow(h.abs() > 0.99, cmap='gray', interpolation='nearest')"
   ]
  },
  {
   "cell_type": "code",
   "execution_count": 161,
   "id": "b51342ec-5222-4d85-bcb4-19838464c661",
   "metadata": {},
   "outputs": [
    {
     "data": {
      "text/plain": [
       "(array([  2.,   2.,   3.,   2.,  13.,  13.,  12.,  19.,  21.,  28.,  39.,\n",
       "         69.,  67.,  50.,  86., 137., 128., 183., 224., 253., 321., 311.,\n",
       "        481., 580., 739., 469., 351., 322., 260., 255., 199., 143., 108.,\n",
       "        118.,  89.,  65.,  62.,  44.,  40.,  26.,  17.,  14.,   8.,  12.,\n",
       "          3.,   3.,   4.,   2.,   0.,   3.]),\n",
       " array([-5.16406679, -4.95198352, -4.73990025, -4.52781697, -4.3157337 ,\n",
       "        -4.10365043, -3.89156715, -3.67948388, -3.46740061, -3.25531734,\n",
       "        -3.04323406, -2.83115079, -2.61906752, -2.40698424, -2.19490097,\n",
       "        -1.9828177 , -1.77073442, -1.55865115, -1.34656788, -1.13448461,\n",
       "        -0.92240133, -0.71031806, -0.49823479, -0.28615151, -0.07406824,\n",
       "         0.13801503,  0.3500983 ,  0.56218158,  0.77426485,  0.98634812,\n",
       "         1.1984314 ,  1.41051467,  1.62259794,  1.83468122,  2.04676449,\n",
       "         2.25884776,  2.47093103,  2.68301431,  2.89509758,  3.10718085,\n",
       "         3.31926413,  3.5313474 ,  3.74343067,  3.95551394,  4.16759722,\n",
       "         4.37968049,  4.59176376,  4.80384704,  5.01593031,  5.22801358,\n",
       "         5.44009686]),\n",
       " <BarContainer object of 50 artists>)"
      ]
     },
     "execution_count": 161,
     "metadata": {},
     "output_type": "execute_result"
    },
    {
     "data": {
      "image/png": "[encoded data removed]",
      "text/plain": [
       "<Figure size 640x480 with 1 Axes>"
      ]
     },
     "metadata": {},
     "output_type": "display_data"
    }
   ],
   "source": [
    "plt.hist(h_preact.view(-1).tolist(), 50)"
   ]
  },
  {
   "cell_type": "code",
   "execution_count": 163,
   "id": "65702ea7-61bf-4b36-8763-552eeea49ebd",
   "metadata": {},
   "outputs": [
    {
     "data": {
      "text/plain": [
       "(array([447., 227., 173., 164., 126., 108., 119., 117., 112., 105.,  87.,\n",
       "         74.,  89.,  72.,  93.,  97., 131., 112.,  97.,  95., 135., 122.,\n",
       "        115., 151., 148., 121., 118., 186.,  78.,  90., 110., 103.,  95.,\n",
       "         90.,  66.,  80.,  93.,  81.,  91.,  98.,  85., 107.,  96.,  98.,\n",
       "        131., 127., 146., 155., 194., 445.]),\n",
       " array([-9.99934614e-01, -9.59936675e-01, -9.19938736e-01, -8.79940797e-01,\n",
       "        -8.39942858e-01, -7.99944919e-01, -7.59946980e-01, -7.19949042e-01,\n",
       "        -6.79951103e-01, -6.39953164e-01, -5.99955225e-01, -5.59957286e-01,\n",
       "        -5.19959347e-01, -4.79961408e-01, -4.39963470e-01, -3.99965531e-01,\n",
       "        -3.59967592e-01, -3.19969653e-01, -2.79971714e-01, -2.39973775e-01,\n",
       "        -1.99975836e-01, -1.59977897e-01, -1.19979959e-01, -7.99820197e-02,\n",
       "        -3.99840808e-02,  1.38580799e-05,  4.00117970e-02,  8.00097358e-02,\n",
       "         1.20007675e-01,  1.60005614e-01,  2.00003552e-01,  2.40001491e-01,\n",
       "         2.79999430e-01,  3.19997369e-01,  3.59995308e-01,  3.99993247e-01,\n",
       "         4.39991186e-01,  4.79989125e-01,  5.19987063e-01,  5.59985002e-01,\n",
       "         5.99982941e-01,  6.39980880e-01,  6.79978819e-01,  7.19976758e-01,\n",
       "         7.59974697e-01,  7.99972636e-01,  8.39970574e-01,  8.79968513e-01,\n",
       "         9.19966452e-01,  9.59964391e-01,  9.99962330e-01]),\n",
       " <BarContainer object of 50 artists>)"
      ]
     },
     "execution_count": 163,
     "metadata": {},
     "output_type": "execute_result"
    },
    {
     "data": {
      "image/png": "[encoded data removed]",
      "text/plain": [
       "<Figure size 640x480 with 1 Axes>"
      ]
     },
     "metadata": {},
     "output_type": "display_data"
    }
   ],
   "source": [
    "plt.hist(h.view(-1).tolist(), 50)"
   ]
  },
  {
   "cell_type": "code",
   "execution_count": 162,
   "id": "976f83d1-f7d0-45eb-9b49-b422261709e0",
   "metadata": {},
   "outputs": [
    {
     "data": {
      "text/plain": [
       "[<matplotlib.lines.Line2D at 0x35e7036e0>]"
      ]
     },
     "execution_count": 162,
     "metadata": {},
     "output_type": "execute_result"
    },
    {
     "data": {
      "image/png": "[encoded data removed]",
      "text/plain": [
       "<Figure size 640x480 with 1 Axes>"
      ]
     },
     "metadata": {},
     "output_type": "display_data"
    }
   ],
   "source": [
    "plt.plot(lossi)"
   ]
  },
  {
   "cell_type": "code",
   "execution_count": 164,
   "id": "2161acb8-18a4-4533-a104-c3ab1e3b51ef",
   "metadata": {},
   "outputs": [
    {
     "name": "stdout",
     "output_type": "stream",
     "text": [
      "train 2.0655484199523926\n",
      "dev 2.1110422611236572\n"
     ]
    }
   ],
   "source": [
    "@torch.no_grad()\n",
    "def split_loss(split):\n",
    "    x, y = {\n",
    "        'train': (X_train, Y_train),\n",
    "        'dev': (X_dev, Y_dev),\n",
    "        'test': (X_test, Y_test),\n",
    "    }[split]\n",
    "\n",
    "    emd = C[x]\n",
    "    h_preact = emd.view(emd.shape[0], -1) @ W1 + b1\n",
    "    \n",
    "    bnmean = bnmean_running #h_preact.mean(0, keepdim=True)\n",
    "    bnstd = bnstd_running #h_preact.std(0, keepdim=True)\n",
    "    \n",
    "    h_preact = bngain * (h_preact - bnmean) / bnstd + bnbias\n",
    "    h = torch.tanh(h_preact)\n",
    "                   \n",
    "    logits = h @ W2 + b2\n",
    "    loss = Func.cross_entropy(logits, y)\n",
    "    print(split, loss.item())\n",
    "\n",
    "split_loss('train')\n",
    "split_loss('dev')"
   ]
  },
  {
   "cell_type": "code",
   "execution_count": 171,
   "id": "ce8452c8-0d51-4b5d-8fad-2aad7818a7d2",
   "metadata": {},
   "outputs": [
    {
     "name": "stdout",
     "output_type": "stream",
     "text": [
      "dex.\n",
      "mariah.\n",
      "makilah.\n",
      "tyharlonimitta.\n",
      "nella.\n",
      "kama.\n",
      "darreliyah.\n",
      "javari.\n",
      "mari.\n",
      "moriella.\n"
     ]
    }
   ],
   "source": [
    "emd = C[X_train]\n",
    "h_preact = emd.view(emd.shape[0], -1) @ W1 + b1\n",
    "    \n",
    "bnmean = h_preact.mean(0, keepdim=True)\n",
    "bnstd = h_preact.std(0, keepdim=True)\n",
    "\n",
    "\n",
    "def predict(n):\n",
    "    g = torch.Generator().manual_seed(2147483647)\n",
    "\n",
    "    for i in range(n):\n",
    "        out = []\n",
    "        context = [0] * context_len\n",
    "\n",
    "        while True:\n",
    "            x = torch.tensor([context])\n",
    "            emd = C[x]\n",
    "            h_preact = emd.view(emd.shape[0], -1) @ W1 # hidden layer pre-activation\n",
    "            #print(h_preact)\n",
    "            h_preact = bngain * ((h_preact - bnmean) / bnstd) + bnbias\n",
    "\n",
    "\n",
    "            h = torch.tanh(h_preact)\n",
    "            logits = h @ W2 + b2 # output layer\n",
    "    \n",
    "            probs = Func.softmax(logits, dim=1)\n",
    "\n",
    "            pred_y = torch.multinomial(probs, num_samples=1, replacement=True, generator=g).item()\n",
    "\n",
    "            out.append(itos[pred_y])\n",
    "            \n",
    "            if pred_y == 0:\n",
    "                break\n",
    "\n",
    "            context = context[1:] + [pred_y]\n",
    "            \n",
    "        print(''.join(out))\n",
    "\n",
    "predict(10)"
   ]
  },
  {
   "cell_type": "code",
   "execution_count": null,
   "id": "c9865a21-6836-43ac-b4b3-f99f36a69649",
   "metadata": {},
   "outputs": [],
   "source": []
  }
 ],
 "metadata": {
  "kernelspec": {
   "display_name": "Python 3 (ipykernel)",
   "language": "python",
   "name": "python3"
  },
  "language_info": {
   "codemirror_mode": {
    "name": "ipython",
    "version": 3
   },
   "file_extension": ".py",
   "mimetype": "text/x-python",
   "name": "python",
   "nbconvert_exporter": "python",
   "pygments_lexer": "ipython3",
   "version": "3.12.3"
  }
 },
 "nbformat": 4,
 "nbformat_minor": 5
}
